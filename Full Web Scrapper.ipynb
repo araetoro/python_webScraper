{
 "cells": [
  {
   "cell_type": "code",
   "execution_count": 2,
   "metadata": {},
   "outputs": [],
   "source": [
    "#importing the libraries\n",
    "import requests\n",
    "from bs4 import BeautifulSoup\n",
    "import pandas"
   ]
  },
  {
   "cell_type": "code",
   "execution_count": 85,
   "metadata": {},
   "outputs": [],
   "source": [
    "#open and create a list of strings from CSV URL's\n",
    "with open(\"site_map_links.csv\") as f:\n",
    "    content= f.readlines()\n",
    "    \n",
    "content=[x.strip() for x in content]"
   ]
  },
  {
   "cell_type": "code",
   "execution_count": 86,
   "metadata": {},
   "outputs": [],
   "source": [
    "#creating full hyperlink from link list\n",
    "link_list=[]\n",
    "i=0\n",
    "for link in content:\n",
    "    l=\"https://www.YOURWEBSITE{}\".format(content[i])\n",
    "    i=i+1\n",
    "    link_list.append(l)"
   ]
  },
  {
   "cell_type": "code",
   "execution_count": 88,
   "metadata": {},
   "outputs": [
    {
     "name": "stdout",
     "output_type": "stream",
     "text": [
      "https://www.wgu.edutel:866.225.5948\n"
     ]
    }
   ],
   "source": [
    "#loop to scrape the website\n",
    "\n",
    "data ={\"Page URL\":[], \"Page Content\":[]}\n",
    "\n",
    "for page in link_list:\n",
    "    page_content=[]\n",
    "    div=0\n",
    "    i=0\n",
    "    try:\n",
    "        r=requests.get(page)\n",
    "        c=r.content\n",
    "        soup=BeautifulSoup(c, \"html.parser\")\n",
    "        all =soup.find_all(\"div\",{\"class\":\"rich-text-component\"})\n",
    "        for item in all:\n",
    "            try:\n",
    "                for item in all:\n",
    "                    try:\n",
    "                        d = all[div].find_all(\"p\")[i].text\n",
    "                        page_content.append(d)\n",
    "                    except:\n",
    "                        pass\n",
    "                    i=i+1\n",
    "            except:\n",
    "                pass\n",
    "            div=div+1\n",
    "            i=0\n",
    "    except:\n",
    "        pass\n",
    "        print(page)\n",
    "    full_page_content = [\"\".join(page_content)]\n",
    "    data[\"Page URL\"].append(page) \n",
    "    data[\"Page Content\"].append(full_page_content)\n"
   ]
  },
  {
   "cell_type": "code",
   "execution_count": 5,
   "metadata": {
    "scrolled": true
   },
   "outputs": [],
   "source": [
    "df=pandas.DataFrame(data)"
   ]
  },
  {
   "cell_type": "code",
   "execution_count": 94,
   "metadata": {},
   "outputs": [],
   "source": [
    "df.to_csv(\"Page_Content.csv\", index=False)"
   ]
  },
  {
   "cell_type": "code",
   "execution_count": 92,
   "metadata": {},
   "outputs": [],
   "source": []
  }
 ],
 "metadata": {
  "kernelspec": {
   "display_name": "Python 3",
   "language": "python",
   "name": "python3"
  },
  "language_info": {
   "codemirror_mode": {
    "name": "ipython",
    "version": 3
   },
   "file_extension": ".py",
   "mimetype": "text/x-python",
   "name": "python",
   "nbconvert_exporter": "python",
   "pygments_lexer": "ipython3",
   "version": "3.6.8"
  }
 },
 "nbformat": 4,
 "nbformat_minor": 2
}
